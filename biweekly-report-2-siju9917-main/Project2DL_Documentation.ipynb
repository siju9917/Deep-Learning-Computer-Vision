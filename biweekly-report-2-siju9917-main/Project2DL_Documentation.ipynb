{
 "cells": [
  {
   "cell_type": "markdown",
   "metadata": {},
   "source": [
    "# Biweekly Report 2: Documentation Cont."
   ]
  },
  {
   "cell_type": "markdown",
   "metadata": {},
   "source": [
    "## By: Simon Julien (107019123)"
   ]
  },
  {
   "cell_type": "markdown",
   "metadata": {},
   "source": [
    "### Extending documentation for TensorFlow:"
   ]
  },
  {
   "cell_type": "markdown",
   "metadata": {},
   "source": [
    "Part of my bi-weekly #1 was developing a detailed documentation of operations, syntax, and functionalities of TensorFlow. As I dive deeper into TensorFlow, I find myself referencing my old report, so I decided to continue this documentation as I come accross it in my development. This can be found below:"
   ]
  },
  {
   "cell_type": "code",
   "execution_count": 2,
   "metadata": {},
   "outputs": [
    {
     "name": "stdout",
     "output_type": "stream",
     "text": [
      "2.6.0\n"
     ]
    }
   ],
   "source": [
    "import tensorflow as tf #got it installed\n",
    "print(tf.__version__)"
   ]
  },
  {
   "cell_type": "markdown",
   "metadata": {},
   "source": [
    "#### Initialization of Tensors"
   ]
  },
  {
   "cell_type": "code",
   "execution_count": 2,
   "metadata": {},
   "outputs": [
    {
     "name": "stdout",
     "output_type": "stream",
     "text": [
      "tf.Tensor([1. 3. 5. 7. 9.], shape=(5,), dtype=float64)\n"
     ]
    }
   ],
   "source": [
    "x=tf.constant(4,shape=(1,1),dtype=tf.float32) #specify shape and size\n",
    "x=tf.constant([[1,2,3],[4,5,6]]) #manual matrix input\n",
    "x=tf.ones((3,3)) #matrix of ones\n",
    "x=tf.zeros((2,3)) #matrix of zeros\n",
    "x=tf.eye(3) #identity matrix\n",
    "\n",
    "x=tf.random.normal((3,3), mean=0, stddev=1) #random norm dist\n",
    "x=tf.random.uniform((1,3),minval=0, maxval=1) #random normal\n",
    "\n",
    "\n",
    "x=tf.range(9) #same as python range func\n",
    "x=tf.range(start=1, limit=10, delta=2)\n",
    "\n",
    "x=tf.cast(x,dtype=tf.float64) #cast to new types\n",
    "\n",
    "print(x)"
   ]
  },
  {
   "cell_type": "markdown",
   "metadata": {},
   "source": [
    "#### Mathematical Operations"
   ]
  },
  {
   "cell_type": "code",
   "execution_count": 3,
   "metadata": {},
   "outputs": [
    {
     "name": "stdout",
     "output_type": "stream",
     "text": [
      "tf.Tensor(\n",
      "[[ 0.07295457 -0.8626246  -0.34738117 -0.87100303]\n",
      " [ 1.0107311  -0.22815785 -0.16178314  0.24419785]], shape=(2, 4), dtype=float32)\n"
     ]
    }
   ],
   "source": [
    "x=tf.constant([1,2,3])\n",
    "y=tf.constant([9,8,7])\n",
    "\n",
    "z=tf.add(x,y) #add elementwise\n",
    "z=x+y\n",
    "z=tf.subtract(x,y) #subtract elementwise\n",
    "z=x-y \n",
    "\n",
    "z=tf.divide(x,y) #divide elementwise\n",
    "z=x/y\n",
    "z=tf.multiply(x,y) #multiply elementwise\n",
    "z=x*y\n",
    "\n",
    "z=tf.tensordot(x,y, axes=1) #dot product\n",
    "z=tf.reduce_sum(x*y, axis=0)\n",
    "\n",
    "z=x**5 #exponential\n",
    "\n",
    "x=tf.random.normal((2,3))\n",
    "y=tf.random.normal((3,4))\n",
    "z=tf.matmul(x,y) #matrix multiplication\n",
    "z=x@y\n",
    "\n",
    "print(z)"
   ]
  },
  {
   "cell_type": "markdown",
   "metadata": {},
   "source": [
    "#### Indexing"
   ]
  },
  {
   "cell_type": "code",
   "execution_count": 4,
   "metadata": {},
   "outputs": [
    {
     "name": "stdout",
     "output_type": "stream",
     "text": [
      "tf.Tensor([0 1 1 2 3 1 2 3], shape=(8,), dtype=int32)\n",
      "tf.Tensor([1 1 2 3 1 2 3], shape=(7,), dtype=int32)\n",
      "tf.Tensor([1 1], shape=(2,), dtype=int32)\n",
      "tf.Tensor([0 1 3 2], shape=(4,), dtype=int32)\n",
      "tf.Tensor([3 2 1 3 2 1 1 0], shape=(8,), dtype=int32)\n",
      "tf.Tensor([0 2], shape=(2,), dtype=int32)\n",
      "tf.Tensor([1 2], shape=(2,), dtype=int32)\n",
      "tf.Tensor(\n",
      "[[1 2]\n",
      " [3 4]], shape=(2, 2), dtype=int32)\n"
     ]
    }
   ],
   "source": [
    "x=tf.constant([0,1,1,2,3,1,2,3])\n",
    "\n",
    "print(x[:]) #all\n",
    "print(x[1:]) #truncate\n",
    "print(x[1:3]) #range\n",
    "print(x[::2]) #skip \n",
    "print(x[::-1]) #reverse order\n",
    "\n",
    "indices=tf.constant([0,3])\n",
    "x_ind=tf.gather(x,indices) #grab particular indices\n",
    "print(x_ind)\n",
    "\n",
    "x=tf.constant([[1,2],[3,4],[5,6]])\n",
    "print(x[0,:]) #multiple dimentions\n",
    "print(x[0:2,:])"
   ]
  },
  {
   "cell_type": "markdown",
   "metadata": {},
   "source": [
    "#### Reshaping"
   ]
  },
  {
   "cell_type": "code",
   "execution_count": 9,
   "metadata": {},
   "outputs": [
    {
     "name": "stdout",
     "output_type": "stream",
     "text": [
      "tf.Tensor(\n",
      "[[0 3 6]\n",
      " [1 4 7]\n",
      " [2 5 8]], shape=(3, 3), dtype=int32)\n",
      "tf.Tensor([1 2 2 3], shape=(4,), dtype=int32)\n"
     ]
    }
   ],
   "source": [
    "x=tf.range(9)\n",
    "x=tf.reshape(x,(3,3)) #reshape\n",
    "\n",
    "x=tf.transpose(x, perm=[1,0]) #transpose\n",
    "print(x)\n",
    "\n",
    "x=tf.concat([[1,2],[2,3]], axis=-1) #concatenation\n",
    "print(x)"
   ]
  },
  {
   "cell_type": "code",
   "execution_count": null,
   "metadata": {},
   "outputs": [],
   "source": []
  }
 ],
 "metadata": {
  "kernelspec": {
   "display_name": "Python 3",
   "language": "python",
   "name": "python3"
  },
  "language_info": {
   "codemirror_mode": {
    "name": "ipython",
    "version": 3
   },
   "file_extension": ".py",
   "mimetype": "text/x-python",
   "name": "python",
   "nbconvert_exporter": "python",
   "pygments_lexer": "ipython3",
   "version": "3.8.3"
  }
 },
 "nbformat": 4,
 "nbformat_minor": 4
}
