{
 "cells": [
  {
   "cell_type": "markdown",
   "metadata": {},
   "source": [
    "# Biweekly Report 1: Developing a thorough TensorFlow Encyclopedia/Reference and Performing Data Exploration for Further Insights"
   ]
  },
  {
   "cell_type": "markdown",
   "metadata": {},
   "source": [
    "## By: Simon Julien (107019123)"
   ]
  },
  {
   "cell_type": "code",
   "execution_count": 157,
   "metadata": {},
   "outputs": [],
   "source": [
    "import tensorflow as tf #got it installed\n",
    "#print(tf.__version__)"
   ]
  },
  {
   "cell_type": "markdown",
   "metadata": {},
   "source": [
    "## Following Tutorials to Develop TensorFlow Encyclopedia And Further Investigation"
   ]
  },
  {
   "cell_type": "markdown",
   "metadata": {},
   "source": [
    "### Basic TensorFlow Operations\n",
    "##### (No data analysis necessary in this section)"
   ]
  },
  {
   "cell_type": "markdown",
   "metadata": {},
   "source": [
    "#### Initialization of Tensors"
   ]
  },
  {
   "cell_type": "code",
   "execution_count": 85,
   "metadata": {},
   "outputs": [
    {
     "name": "stdout",
     "output_type": "stream",
     "text": [
      "tf.Tensor([1. 3. 5. 7. 9.], shape=(5,), dtype=float64)\n"
     ]
    }
   ],
   "source": [
    "x=tf.constant(4,shape=(1,1),dtype=tf.float32) #specify shape and size\n",
    "x=tf.constant([[1,2,3],[4,5,6]]) #manual matrix input\n",
    "x=tf.ones((3,3)) #matrix of ones\n",
    "x=tf.zeros((2,3)) #matrix of zeros\n",
    "x=tf.eye(3) #identity matrix\n",
    "\n",
    "x=tf.random.normal((3,3), mean=0, stddev=1) #random norm dist\n",
    "x=tf.random.uniform((1,3),minval=0, maxval=1) #random normal\n",
    "\n",
    "x=tf.range(9) #same as python range func\n",
    "x=tf.range(start=1, limit=10, delta=2)\n",
    "\n",
    "x=tf.cast(x,dtype=tf.float64) #cast to new types\n",
    "\n",
    "print(x)"
   ]
  },
  {
   "cell_type": "markdown",
   "metadata": {},
   "source": [
    "#### Mathematical Operations"
   ]
  },
  {
   "cell_type": "code",
   "execution_count": 86,
   "metadata": {},
   "outputs": [
    {
     "name": "stdout",
     "output_type": "stream",
     "text": [
      "tf.Tensor(\n",
      "[[-0.25870726  2.8296027   3.518337   -1.392397  ]\n",
      " [-0.03763912  0.371865    2.3537776  -0.53143656]], shape=(2, 4), dtype=float32)\n"
     ]
    }
   ],
   "source": [
    "x=tf.constant([1,2,3])\n",
    "y=tf.constant([9,8,7])\n",
    "\n",
    "z=tf.add(x,y) #add elementwise\n",
    "z=x+y\n",
    "z=tf.subtract(x,y) #subtract elementwise\n",
    "z=x-y \n",
    "\n",
    "z=tf.divide(x,y) #divide elementwise\n",
    "z=x/y\n",
    "z=tf.multiply(x,y) #multiply elementwise\n",
    "z=x*y\n",
    "\n",
    "z=tf.tensordot(x,y, axes=1) #dot product\n",
    "z=tf.reduce_sum(x*y, axis=0)\n",
    "\n",
    "z=x**5 #exponential\n",
    "\n",
    "x=tf.random.normal((2,3))\n",
    "y=tf.random.normal((3,4))\n",
    "z=tf.matmul(x,y) #matrix multiplication\n",
    "z=x@y\n",
    "\n",
    "print(z)"
   ]
  },
  {
   "cell_type": "markdown",
   "metadata": {},
   "source": [
    "#### Indexing"
   ]
  },
  {
   "cell_type": "code",
   "execution_count": 87,
   "metadata": {},
   "outputs": [
    {
     "name": "stdout",
     "output_type": "stream",
     "text": [
      "tf.Tensor([0 1 1 2 3 1 2 3], shape=(8,), dtype=int32)\n",
      "tf.Tensor([1 1 2 3 1 2 3], shape=(7,), dtype=int32)\n",
      "tf.Tensor([1 1], shape=(2,), dtype=int32)\n",
      "tf.Tensor([0 1 3 2], shape=(4,), dtype=int32)\n",
      "tf.Tensor([3 2 1 3 2 1 1 0], shape=(8,), dtype=int32)\n",
      "tf.Tensor([0 2], shape=(2,), dtype=int32)\n",
      "tf.Tensor([1 2], shape=(2,), dtype=int32)\n",
      "tf.Tensor(\n",
      "[[1 2]\n",
      " [3 4]], shape=(2, 2), dtype=int32)\n"
     ]
    }
   ],
   "source": [
    "x=tf.constant([0,1,1,2,3,1,2,3])\n",
    "\n",
    "print(x[:]) #all\n",
    "print(x[1:]) #truncate\n",
    "print(x[1:3]) #range\n",
    "print(x[::2]) #skip \n",
    "print(x[::-1]) #reverse order\n",
    "\n",
    "indices=tf.constant([0,3])\n",
    "x_ind=tf.gather(x,indices) #grab particular indices\n",
    "print(x_ind)\n",
    "\n",
    "x=tf.constant([[1,2],[3,4],[5,6]])\n",
    "print(x[0,:]) #multiple dimentions\n",
    "print(x[0:2,:])"
   ]
  },
  {
   "cell_type": "markdown",
   "metadata": {},
   "source": [
    "#### Reshaping"
   ]
  },
  {
   "cell_type": "code",
   "execution_count": 88,
   "metadata": {},
   "outputs": [
    {
     "name": "stdout",
     "output_type": "stream",
     "text": [
      "tf.Tensor(\n",
      "[[0 3 6]\n",
      " [1 4 7]\n",
      " [2 5 8]], shape=(3, 3), dtype=int32)\n"
     ]
    }
   ],
   "source": [
    "x=tf.range(9)\n",
    "x=tf.reshape(x,(3,3)) #reshape\n",
    "\n",
    "x=tf.transpose(x, perm=[1,0]) #transpose\n",
    "print(x)"
   ]
  },
  {
   "cell_type": "markdown",
   "metadata": {},
   "source": [
    "### Building A Simple Neural Network\n",
    "#### Initializing Data"
   ]
  },
  {
   "cell_type": "code",
   "execution_count": 158,
   "metadata": {},
   "outputs": [
    {
     "name": "stdout",
     "output_type": "stream",
     "text": [
      "(60000, 28, 28)\n",
      "(60000,)\n"
     ]
    }
   ],
   "source": [
    "from tensorflow import keras #higher level API\n",
    "from tensorflow.keras import layers\n",
    "from tensorflow.keras.datasets import mnist #example dataset\n",
    "\n",
    "(x_train,y_train),(x_test,y_test)=mnist.load_data()\n",
    "\n",
    "print(x_train.shape)\n",
    "print(y_train.shape)\n",
    "\n",
    "x_train=x_train.reshape(-1,28*28).astype(\"float32\") / 255.0 #reshape, convert to cheaper float32, & normalize data\n",
    "x_test=x_test.reshape(-1,28*28).astype(\"float32\")/255.0"
   ]
  },
  {
   "cell_type": "markdown",
   "metadata": {},
   "source": [
    "In the above cell, we are initializing data from the mnist dataset, which is a dataset containing black and white images of handwritten numbers that we then have to categorize."
   ]
  },
  {
   "cell_type": "markdown",
   "metadata": {},
   "source": [
    "#### Familiarizing with the Data"
   ]
  },
  {
   "cell_type": "code",
   "execution_count": 208,
   "metadata": {},
   "outputs": [
    {
     "name": "stdout",
     "output_type": "stream",
     "text": [
      "(60000, 784)\n"
     ]
    },
    {
     "data": {
      "image/png": "[encoded data removed]",
      "text/plain": [
       "<Figure size 432x288 with 1 Axes>"
      ]
     },
     "metadata": {
      "needs_background": "light"
     },
     "output_type": "display_data"
    }
   ],
   "source": [
    "import numpy as np\n",
    "import matplotlib.pyplot as plt\n",
    "\n",
    "plotMat=np.zeros((784,1))\n",
    "print(x_train.shape)\n",
    "#print(x_train[0,:])\n",
    "\n",
    "plotMat=np.reshape(x_train,(60000,28,28))\n",
    "plt.imshow(plotMat[0,:,:])\n",
    "plt.show()"
   ]
  },
  {
   "cell_type": "markdown",
   "metadata": {},
   "source": [
    "After playing with the data I now understand that there are 60,000 data points where each data point is a 28 by 28 matrix that contains the hand-drawn number that we are trying to decipher."
   ]
  },
  {
   "cell_type": "code",
   "execution_count": 206,
   "metadata": {},
   "outputs": [
    {
     "name": "stdout",
     "output_type": "stream",
     "text": [
      "Mean: 4.4539333333333335\n",
      "stdDev: 2.889246360020012\n"
     ]
    },
    {
     "data": {
      "image/png": "[encoded data removed]",
      "text/plain": [
       "<Figure size 432x288 with 1 Axes>"
      ]
     },
     "metadata": {
      "needs_background": "light"
     },
     "output_type": "display_data"
    },
    {
     "data": {
      "image/png": "[encoded data removed]",
      "text/plain": [
       "<Figure size 432x288 with 1 Axes>"
      ]
     },
     "metadata": {
      "needs_background": "light"
     },
     "output_type": "display_data"
    }
   ],
   "source": [
    "plt.hist(y_train,[0,1,2,3,4,5,6,7,8,9])\n",
    "plt.title('Training: Mean- ')\n",
    "print('Mean:', np.mean(y_train))\n",
    "print('stdDev:', np.std(y_train))\n",
    "plt.show()\n",
    "\n",
    "plt.hist(y_test,[0,1,2,3,4,5,6,7,8,9])\n",
    "plt.title('Testing')\n",
    "plt.show()"
   ]
  },
  {
   "cell_type": "markdown",
   "metadata": {},
   "source": [
    "The data is not uniformly distributed between all values 0-9. There are clearly more 9s in both the training and testing datasets. I to understand more about these distributions I will look into the distributions across multiple data."
   ]
  },
  {
   "cell_type": "code",
   "execution_count": 232,
   "metadata": {},
   "outputs": [
    {
     "data": {
      "image/png": "[encoded data removed]",
      "text/plain": [
       "<Figure size 432x288 with 1 Axes>"
      ]
     },
     "metadata": {
      "needs_background": "light"
     },
     "output_type": "display_data"
    },
    {
     "data": {
      "image/png": "[encoded data removed]",
      "text/plain": [
       "<Figure size 432x288 with 1 Axes>"
      ]
     },
     "metadata": {
      "needs_background": "light"
     },
     "output_type": "display_data"
    }
   ],
   "source": [
    "aggregation=np.zeros((28,28))\n",
    "for i in range(len(plotMat[:,0,0])):\n",
    "    aggregation=aggregation+plotMat[i,:,:]\n",
    "    \n",
    "\n",
    "avg=aggregation/len(plotMat[:,0,0])\n",
    "plt.imshow(avg)\n",
    "plt.show()\n",
    "\n",
    "avg=np.reshape(avg,784)\n",
    "\n",
    "plt.hist(avg)\n",
    "plt.title('Averaged Distribution of Pixels')\n",
    "plt.show()"
   ]
  },
  {
   "cell_type": "markdown",
   "metadata": {},
   "source": [
    "As expected from the first figure, many of the pixels maintain a value of 0 nearly throughout all data points. Now I will perform a similar operator for each digit 0-9 individually."
   ]
  },
  {
   "cell_type": "code",
   "execution_count": 353,
   "metadata": {},
   "outputs": [
    {
     "name": "stdout",
     "output_type": "stream",
     "text": [
      "[    7    10    12 ... 59978 59980 59996]\n",
      "6\n"
     ]
    },
    {
     "data": {
      "image/png": "[encoded data removed]",
      "text/plain": [
       "<Figure size 432x288 with 1 Axes>"
      ]
     },
     "metadata": {
      "needs_background": "light"
     },
     "output_type": "display_data"
    }
   ],
   "source": [
    "from tensorflow.keras.datasets import mnist #example dataset\n",
    "(x_train,y_train),(x_test,y_test)=mnist.load_data()\n",
    "x_train=x_train.reshape(-1,28*28).astype(\"float32\") / 255.0 #reshape, convert to cheaper float32, & normalize data\n",
    "x_test=x_test.reshape(-1,28*28).astype(\"float32\")/255.0\n",
    "\n",
    "\n",
    "digit=3\n",
    "hit=np.where(y_train==digit)\n",
    "hit=hit[0]\n",
    "print(hit)\n",
    "val=32\n",
    "print(y_train[val])\n",
    "\n",
    "agg=np.zeros((28,28))\n",
    "avg=[]\n",
    "\n",
    "for i in hit:\n",
    "    agg=agg+plotMat[i,:,:]\n",
    "avg=agg/len(hit)\n",
    "\n",
    "#distributions of all of the same number (enter as \"digit\" above)\n",
    "plt.imshow(avg)\n",
    "plt.show()"
   ]
  },
  {
   "cell_type": "markdown",
   "metadata": {},
   "source": [
    "#### Using Sequential API"
   ]
  },
  {
   "cell_type": "markdown",
   "metadata": {},
   "source": [
    "The Sequential API is easier/quicker to use but far less flexible. It can be used when there is one input to one output of the network."
   ]
  },
  {
   "cell_type": "code",
   "execution_count": 231,
   "metadata": {},
   "outputs": [
    {
     "name": "stdout",
     "output_type": "stream",
     "text": [
      "Model: \"sequential_49\"\n",
      "_________________________________________________________________\n",
      "Layer (type)                 Output Shape              Param #   \n",
      "=================================================================\n",
      "dense_169 (Dense)            (None, 512)               401920    \n",
      "_________________________________________________________________\n",
      "my_layer (Dense)             (None, 256)               131328    \n",
      "_________________________________________________________________\n",
      "dense_170 (Dense)            (None, 10)                2570      \n",
      "=================================================================\n",
      "Total params: 535,818\n",
      "Trainable params: 535,818\n",
      "Non-trainable params: 0\n",
      "_________________________________________________________________\n",
      "None\n",
      "(60000, 512)\n",
      "(60000, 256)\n",
      "(60000, 10)\n",
      "Epoch 1/5\n",
      "1875/1875 - 4s - loss: 1.1309 - dense_169_loss: 0.6471 - my_layer_loss: 0.2755 - dense_170_loss: 0.2082 - dense_169_accuracy: 0.8640 - my_layer_accuracy: 0.9307 - dense_170_accuracy: 0.9361\n",
      "Epoch 2/5\n",
      "1875/1875 - 4s - loss: 0.4808 - dense_169_loss: 0.3118 - my_layer_loss: 0.0819 - dense_170_loss: 0.0871 - dense_169_accuracy: 0.9152 - my_layer_accuracy: 0.9755 - dense_170_accuracy: 0.9733\n",
      "Epoch 3/5\n",
      "1875/1875 - 4s - loss: 0.4058 - dense_169_loss: 0.2881 - my_layer_loss: 0.0550 - dense_170_loss: 0.0626 - dense_169_accuracy: 0.9207 - my_layer_accuracy: 0.9834 - dense_170_accuracy: 0.9805\n",
      "Epoch 4/5\n",
      "1875/1875 - 4s - loss: 0.3658 - dense_169_loss: 0.2768 - my_layer_loss: 0.0409 - dense_170_loss: 0.0481 - dense_169_accuracy: 0.9240 - my_layer_accuracy: 0.9874 - dense_170_accuracy: 0.9853\n",
      "Epoch 5/5\n",
      "1875/1875 - 4s - loss: 0.3357 - dense_169_loss: 0.2698 - my_layer_loss: 0.0294 - dense_170_loss: 0.0365 - dense_169_accuracy: 0.9258 - my_layer_accuracy: 0.9908 - dense_170_accuracy: 0.9882\n",
      "313/313 - 0s - loss: 0.4013 - dense_169_loss: 0.2701 - my_layer_loss: 0.0645 - dense_170_loss: 0.0667 - dense_169_accuracy: 0.9253 - my_layer_accuracy: 0.9815 - dense_170_accuracy: 0.9799\n"
     ]
    },
    {
     "data": {
      "text/plain": [
       "[0.4013165235519409,\n",
       " 0.2700919210910797,\n",
       " 0.06449727714061737,\n",
       " 0.06672719120979309,\n",
       " 0.9253000020980835,\n",
       " 0.9815000295639038,\n",
       " 0.9799000024795532]"
      ]
     },
     "execution_count": 231,
     "metadata": {},
     "output_type": "execute_result"
    }
   ],
   "source": [
    "model=keras.Sequential( #Building the model with Google's keras\n",
    "    [\n",
    "        keras.Input(shape=(28*28)),\n",
    "        layers.Dense(512, activation='relu'), #densely connected layer with 512 nodes\n",
    "        layers.Dense(256, activation='relu'),\n",
    "        layers.Dense(10), #output layer\n",
    "        \n",
    "    ])\n",
    "\n",
    "#You can also build model like this (better for debugging)\n",
    "model=keras.Sequential()\n",
    "model.add(keras.Input(shape=(28*28)))\n",
    "model.add(layers.Dense(512, activation='relu')) #densely connected layer with 512 nodes\n",
    "model.add(layers.Dense(256, activation='relu', name='my_layer'))\n",
    "model.add(layers.Dense(10)) #output layer\n",
    "\n",
    "print(model.summary()) #can only be called after definition of model\n",
    "\n",
    "model=keras.Model(inputs=model.inputs, outputs=[layer.output for layer in model.layers]) #model.get_layer('my_layer').output])\n",
    "features=model.predict(x_train)\n",
    "for feature in features:\n",
    "    print(feature.shape) #print the shapes of each layer\n",
    "\n",
    "model.compile(\n",
    "    loss=keras.losses.SparseCategoricalCrossentropy(from_logits=True), #loss function\n",
    "    optimizer=keras.optimizers.Adam(lr=0.001), #Using ADAM with learning rate, which in class we said is most common optimizer\n",
    "    #optimizer=keras.optimizers.SGD(lr=0.001, momentum=0.9), #GRADIENT DECENT \n",
    "    #optimizer=keras.optimizers.Adagrad(lr=0.001), #ADAGRAD \n",
    "    #optimizer=keras.optimizers.RMSprop(lr=0.001), #RMSprop (Second best)\n",
    "    metrics=[\"accuracy\"], \n",
    ")\n",
    "\n",
    "model.fit(x_train, y_train, batch_size=32, epochs =5, verbose=2) #train model\n",
    "model.evaluate(x_test,y_test,batch_size=32,verbose=2) #test model\n"
   ]
  },
  {
   "cell_type": "markdown",
   "metadata": {},
   "source": [
    "In the above cell, I implemented 4 optimizers to fit and test the sequential model. As suggested in class Adam is the best model to use according to the accuracy of our test results. Also featured are the various ways to build the model (the second one is better for debugging purposes) and how to display necessary components of the model for debugging and checking."
   ]
  },
  {
   "cell_type": "markdown",
   "metadata": {},
   "source": [
    "#### Using Functional API"
   ]
  },
  {
   "cell_type": "markdown",
   "metadata": {},
   "source": [
    "Functional API is far more flexible than sequential API."
   ]
  },
  {
   "cell_type": "code",
   "execution_count": 95,
   "metadata": {},
   "outputs": [
    {
     "name": "stdout",
     "output_type": "stream",
     "text": [
      "Model: \"model_16\"\n",
      "_________________________________________________________________\n",
      "Layer (type)                 Output Shape              Param #   \n",
      "=================================================================\n",
      "input_42 (InputLayer)        [(None, 784)]             0         \n",
      "_________________________________________________________________\n",
      "first_layer (Dense)          (None, 512)               401920    \n",
      "_________________________________________________________________\n",
      "second_layer (Dense)         (None, 256)               131328    \n",
      "_________________________________________________________________\n",
      "dense_113 (Dense)            (None, 10)                2570      \n",
      "=================================================================\n",
      "Total params: 535,818\n",
      "Trainable params: 535,818\n",
      "Non-trainable params: 0\n",
      "_________________________________________________________________\n",
      "None\n",
      "Epoch 1/5\n",
      "1875/1875 - 3s - loss: 0.1892 - accuracy: 0.9425\n",
      "Epoch 2/5\n",
      "1875/1875 - 3s - loss: 0.0792 - accuracy: 0.9750\n",
      "Epoch 3/5\n",
      "1875/1875 - 3s - loss: 0.0533 - accuracy: 0.9835\n",
      "Epoch 4/5\n",
      "1875/1875 - 3s - loss: 0.0414 - accuracy: 0.9872\n",
      "Epoch 5/5\n",
      "1875/1875 - 3s - loss: 0.0344 - accuracy: 0.9883\n",
      "313/313 - 0s - loss: 0.0954 - accuracy: 0.9753\n"
     ]
    },
    {
     "data": {
      "text/plain": [
       "[0.09544245898723602, 0.9753000140190125]"
      ]
     },
     "execution_count": 95,
     "metadata": {},
     "output_type": "execute_result"
    }
   ],
   "source": [
    "inputs=keras.Input(shape=(28*28)) #.Input instead of .Sequential\n",
    "x=layers.Dense(512, activation='relu',name='first_layer')(inputs)\n",
    "x=layers.Dense(256, activation='relu',name='second_layer')(x)\n",
    "outputs=layers.Dense(10,activation='softmax')(x)\n",
    "model=keras.Model(inputs=inputs, outputs=outputs)\n",
    "\n",
    "print(model.summary())\n",
    "\n",
    "model.compile(\n",
    "    loss=keras.losses.SparseCategoricalCrossentropy(from_logits=False), #loss function\n",
    "    optimizer=keras.optimizers.Adam(lr=0.001), #Using Adam with learning rate, which in class we said is most common optimizer\n",
    "    #optimizer=keras.optimizers.SGD(lr=0.001, momentum=0.9), #GRADIENT DECENT \n",
    "    #optimizer=keras.optimizers.Adagrad(lr=0.001), #ADAGRAD \n",
    "    #optimizer=keras.optimizers.RMSprop(lr=0.001), #RMSprop (Second best)\n",
    "    metrics=[\"accuracy\"], \n",
    ")\n",
    "\n",
    "\n",
    "model.fit(x_train, y_train, batch_size=32, epochs =5, verbose=2)\n",
    "model.evaluate(x_test,y_test,batch_size=32,verbose=2)\n",
    "\n"
   ]
  },
  {
   "cell_type": "markdown",
   "metadata": {},
   "source": [
    "In the above cell I implemented the same test and validated process for my model with the function API. The performance here was relatively the same because the data I am using falls within the limited restrictions that allows sequential API to be used accurately."
   ]
  },
  {
   "cell_type": "markdown",
   "metadata": {},
   "source": [
    "### Building Convolutional Neural Networks"
   ]
  },
  {
   "cell_type": "markdown",
   "metadata": {},
   "source": [
    "Here, I will be using cifar10 dataset which has images of 10 different classes of objects with 50,000 training and 10,000 test images. The images are 32x32 pixels with 3 (RBG) channels\n",
    "#### Initialize data"
   ]
  },
  {
   "cell_type": "code",
   "execution_count": 354,
   "metadata": {},
   "outputs": [],
   "source": [
    "from tensorflow.keras.datasets import cifar10 #New dataset\n",
    "\n",
    "(x_train, y_train), (x_test, y_test) = cifar10.load_data() #load data\n",
    "x_train=x_train.astype(\"float32\") / 255.0 #convert to better computational type and normalize\n",
    "x_test=x_test.astype(\"float32\") / 255.0\n"
   ]
  },
  {
   "cell_type": "markdown",
   "metadata": {},
   "source": [
    "#### Investigating Data"
   ]
  },
  {
   "cell_type": "code",
   "execution_count": 355,
   "metadata": {},
   "outputs": [
    {
     "name": "stdout",
     "output_type": "stream",
     "text": [
      "(50000, 32, 32, 3)\n",
      "[0 1 2 3 4 5 6 7 8 9]\n"
     ]
    },
    {
     "data": {
      "image/png": "[encoded data removed]",
      "text/plain": [
       "<Figure size 432x288 with 4 Axes>"
      ]
     },
     "metadata": {
      "needs_background": "light"
     },
     "output_type": "display_data"
    }
   ],
   "source": [
    "print(x_train.shape) #32,32,RBG x 50000\n",
    "\n",
    "print(np.unique(y_train)) #so there are only 10 photos... lets see some\n",
    "\n",
    "from mpl_toolkits.axes_grid1.axes_rgb import RGBAxes\n",
    "fig = plt.figure()\n",
    "ax = RGBAxes(fig, [0.1, 0.1, 0.8, 0.8])\n",
    "\n",
    "\n",
    "ax.imshow_rgb(x_train[0,:,:,0], x_train[0,:,:,1], x_train[0,:,:,2])\n",
    "plt.show()\n"
   ]
  },
  {
   "cell_type": "markdown",
   "metadata": {},
   "source": [
    "Choosing one pixel, I will plot the histogram distribution of the RGB values of the pixel across all data points below."
   ]
  },
  {
   "cell_type": "code",
   "execution_count": 367,
   "metadata": {},
   "outputs": [
    {
     "data": {
      "image/png": "[encoded data removed]",
      "text/plain": [
       "<Figure size 432x288 with 1 Axes>"
      ]
     },
     "metadata": {
      "needs_background": "light"
     },
     "output_type": "display_data"
    },
    {
     "data": {
      "image/png": "[encoded data removed]",
      "text/plain": [
       "<Figure size 432x288 with 1 Axes>"
      ]
     },
     "metadata": {
      "needs_background": "light"
     },
     "output_type": "display_data"
    },
    {
     "data": {
      "image/png": "[encoded data removed]",
      "text/plain": [
       "<Figure size 432x288 with 1 Axes>"
      ]
     },
     "metadata": {
      "needs_background": "light"
     },
     "output_type": "display_data"
    }
   ],
   "source": [
    "pixel=15 #choose pixel between 0 and 31\n",
    "plt.hist(x_train[:,pixel,pixel,0])\n",
    "plt.title('Red: ('+ str(pixel)+','+ str(pixel)+')')\n",
    "plt.show()\n",
    "\n",
    "plt.hist(x_train[:,pixel,pixel,1])\n",
    "plt.title('Green: ('+ str(pixel)+','+ str(pixel)+')')\n",
    "plt.show()\n",
    "\n",
    "plt.hist(x_train[:,pixel,pixel,2])\n",
    "plt.title('Blue: ('+ str(pixel)+','+ str(pixel)+')')\n",
    "plt.show()"
   ]
  },
  {
   "cell_type": "markdown",
   "metadata": {},
   "source": [
    "In the red histogram, the distribution appears normal, however green appears slightly skewed right and blue is very skewed right. This suggests in the middel of the photos there is a \"medium\" amount of red and not as much green or blue. Now lets investigate a corner."
   ]
  },
  {
   "cell_type": "code",
   "execution_count": 368,
   "metadata": {},
   "outputs": [
    {
     "data": {
      "image/png": "[encoded data removed]",
      "text/plain": [
       "<Figure size 432x288 with 1 Axes>"
      ]
     },
     "metadata": {
      "needs_background": "light"
     },
     "output_type": "display_data"
    },
    {
     "data": {
      "image/png": "[encoded data removed]",
      "text/plain": [
       "<Figure size 432x288 with 1 Axes>"
      ]
     },
     "metadata": {
      "needs_background": "light"
     },
     "output_type": "display_data"
    },
    {
     "data": {
      "image/png": "[encoded data removed]",
      "text/plain": [
       "<Figure size 432x288 with 1 Axes>"
      ]
     },
     "metadata": {
      "needs_background": "light"
     },
     "output_type": "display_data"
    }
   ],
   "source": [
    "pixel=0 #choose pixel between 0 and 31\n",
    "plt.hist(x_train[:,pixel,pixel,0])\n",
    "plt.title('Red: ('+ str(pixel)+','+ str(pixel)+')')\n",
    "plt.show()\n",
    "\n",
    "plt.hist(x_train[:,pixel,pixel,1])\n",
    "plt.title('Green: ('+ str(pixel)+','+ str(pixel)+')')\n",
    "plt.show()\n",
    "\n",
    "plt.hist(x_train[:,pixel,pixel,2])\n",
    "plt.title('Blue: ('+ str(pixel)+','+ str(pixel)+')')\n",
    "plt.show()"
   ]
  },
  {
   "cell_type": "markdown",
   "metadata": {},
   "source": [
    "Here all distributions are more evenly distributed except for a tail for all of them around 1. RGB (255,255,255) is white, so this means it is most common to have a white or nearly white color in the corner. "
   ]
  },
  {
   "cell_type": "markdown",
   "metadata": {},
   "source": [
    "#### Convolutional NN with Sequential Model"
   ]
  },
  {
   "cell_type": "code",
   "execution_count": 102,
   "metadata": {},
   "outputs": [
    {
     "name": "stdout",
     "output_type": "stream",
     "text": [
      "Model: \"sequential_39\"\n",
      "_________________________________________________________________\n",
      "Layer (type)                 Output Shape              Param #   \n",
      "=================================================================\n",
      "conv2d_4 (Conv2D)            (None, 30, 30, 32)        896       \n",
      "_________________________________________________________________\n",
      "max_pooling2d_3 (MaxPooling2 (None, 15, 15, 32)        0         \n",
      "_________________________________________________________________\n",
      "conv2d_5 (Conv2D)            (None, 13, 13, 64)        18496     \n",
      "_________________________________________________________________\n",
      "max_pooling2d_4 (MaxPooling2 (None, 6, 6, 64)          0         \n",
      "_________________________________________________________________\n",
      "conv2d_6 (Conv2D)            (None, 4, 4, 128)         73856     \n",
      "_________________________________________________________________\n",
      "flatten_1 (Flatten)          (None, 2048)              0         \n",
      "_________________________________________________________________\n",
      "dense_116 (Dense)            (None, 64)                131136    \n",
      "_________________________________________________________________\n",
      "dense_117 (Dense)            (None, 10)                650       \n",
      "=================================================================\n",
      "Total params: 225,034\n",
      "Trainable params: 225,034\n",
      "Non-trainable params: 0\n",
      "_________________________________________________________________\n",
      "None\n",
      "Epoch 1/10\n",
      "782/782 - 14s - loss: 1.7118 - accuracy: 0.3750\n",
      "Epoch 2/10\n",
      "782/782 - 16s - loss: 1.3762 - accuracy: 0.5082\n",
      "Epoch 3/10\n",
      "782/782 - 18s - loss: 1.2325 - accuracy: 0.5666\n",
      "Epoch 4/10\n",
      "782/782 - 18s - loss: 1.1349 - accuracy: 0.6033\n",
      "Epoch 5/10\n",
      "782/782 - 19s - loss: 1.0553 - accuracy: 0.6327\n",
      "Epoch 6/10\n",
      "782/782 - 21s - loss: 1.0039 - accuracy: 0.6503\n",
      "Epoch 7/10\n",
      "782/782 - 22s - loss: 0.9539 - accuracy: 0.6673\n",
      "Epoch 8/10\n",
      "782/782 - 19s - loss: 0.9103 - accuracy: 0.6843\n",
      "Epoch 9/10\n",
      "782/782 - 20s - loss: 0.8755 - accuracy: 0.6983\n",
      "Epoch 10/10\n",
      "782/782 - 20s - loss: 0.8366 - accuracy: 0.7099\n",
      "157/157 - 1s - loss: 0.9178 - accuracy: 0.6820\n"
     ]
    },
    {
     "data": {
      "text/plain": [
       "[0.9177760481834412, 0.6819999814033508]"
      ]
     },
     "execution_count": 102,
     "metadata": {},
     "output_type": "execute_result"
    }
   ],
   "source": [
    "model=keras.Sequential(\n",
    "    [\n",
    "        keras.Input(shape=(32,32,3)),\n",
    "        layers.Conv2D(32, 3, padding='valid', activation='relu'), #Convolution(Ouput number of channels, kernel size)\n",
    "        #if we say padding='same' then the tensors will maintain 32x32. If we say padding='valid', they will change by kernal size\n",
    "        layers.MaxPooling2D(pool_size=(2,2)), #perform maxpooling (learned in class)\n",
    "        layers.Conv2D(64,3,activation='relu'),\n",
    "        layers.MaxPooling2D(),\n",
    "        layers.Conv2D(128,3,activation='relu'),\n",
    "        layers.Flatten(), #flatten for output\n",
    "        layers.Dense(64,activation='relu'),\n",
    "        layers.Dense(10), \n",
    "    ]\n",
    ")\n",
    "\n",
    "print(model.summary())\n",
    "\n",
    "model.compile(\n",
    "    loss=keras.losses.SparseCategoricalCrossentropy(from_logits=True),\n",
    "    optimizer=keras.optimizers.Adam(lr=3e-4), #Adam\n",
    "    metrics=[\"accuracy\"],\n",
    ")\n",
    "\n",
    "model.fit(x_train,y_train,batch_size=64,epochs=10,verbose=2) #train\n",
    "model.evaluate(x_test,y_test,batch_size=64,verbose=2) #test\n",
    "\n",
    "\n"
   ]
  },
  {
   "cell_type": "markdown",
   "metadata": {},
   "source": [
    "The accuracy results of categorization through my sequential convolutional neural network and ADAM optimizer are somewhat low, however they could be improved with a larger training dataset. Alongside convolution, I have also demonstrated a usecase of padding (for the convolution) and Maxpooling after the convolution."
   ]
  },
  {
   "cell_type": "markdown",
   "metadata": {},
   "source": [
    "#### Convolutional NN with Functional Model"
   ]
  },
  {
   "cell_type": "code",
   "execution_count": 123,
   "metadata": {},
   "outputs": [
    {
     "name": "stdout",
     "output_type": "stream",
     "text": [
      "Model: \"model_26\"\n",
      "_________________________________________________________________\n",
      "Layer (type)                 Output Shape              Param #   \n",
      "=================================================================\n",
      "input_58 (InputLayer)        [(None, 32, 32, 3)]       0         \n",
      "_________________________________________________________________\n",
      "conv2d_41 (Conv2D)           (None, 30, 30, 32)        896       \n",
      "_________________________________________________________________\n",
      "batch_normalization_27 (Batc (None, 30, 30, 32)        128       \n",
      "_________________________________________________________________\n",
      "tf.nn.relu_27 (TFOpLambda)   (None, 30, 30, 32)        0         \n",
      "_________________________________________________________________\n",
      "max_pooling2d_21 (MaxPooling (None, 15, 15, 32)        0         \n",
      "_________________________________________________________________\n",
      "conv2d_42 (Conv2D)           (None, 13, 13, 64)        18496     \n",
      "_________________________________________________________________\n",
      "batch_normalization_28 (Batc (None, 13, 13, 64)        256       \n",
      "_________________________________________________________________\n",
      "tf.nn.relu_28 (TFOpLambda)   (None, 13, 13, 64)        0         \n",
      "_________________________________________________________________\n",
      "max_pooling2d_22 (MaxPooling (None, 6, 6, 64)          0         \n",
      "_________________________________________________________________\n",
      "conv2d_43 (Conv2D)           (None, 4, 4, 128)         73856     \n",
      "_________________________________________________________________\n",
      "batch_normalization_29 (Batc (None, 4, 4, 128)         512       \n",
      "_________________________________________________________________\n",
      "tf.nn.relu_29 (TFOpLambda)   (None, 4, 4, 128)         0         \n",
      "_________________________________________________________________\n",
      "flatten_12 (Flatten)         (None, 2048)              0         \n",
      "_________________________________________________________________\n",
      "dense_140 (Dense)            (None, 64)                131136    \n",
      "_________________________________________________________________\n",
      "dense_141 (Dense)            (None, 10)                650       \n",
      "=================================================================\n",
      "Total params: 225,930\n",
      "Trainable params: 225,482\n",
      "Non-trainable params: 448\n",
      "_________________________________________________________________\n",
      "None\n",
      "Epoch 1/10\n",
      "782/782 - 31s - loss: 1.3336 - accuracy: 0.5190\n",
      "Epoch 2/10\n",
      "782/782 - 30s - loss: 0.9800 - accuracy: 0.6547\n",
      "Epoch 3/10\n",
      "782/782 - 31s - loss: 0.8276 - accuracy: 0.7128\n",
      "Epoch 4/10\n",
      "782/782 - 30s - loss: 0.7195 - accuracy: 0.7484\n",
      "Epoch 5/10\n",
      "782/782 - 30s - loss: 0.6398 - accuracy: 0.7788\n",
      "Epoch 6/10\n",
      "782/782 - 29s - loss: 0.5692 - accuracy: 0.8019\n",
      "Epoch 7/10\n",
      "782/782 - 30s - loss: 0.5059 - accuracy: 0.8248\n",
      "Epoch 8/10\n",
      "782/782 - 29s - loss: 0.4458 - accuracy: 0.8458\n",
      "Epoch 9/10\n",
      "782/782 - 29s - loss: 0.3956 - accuracy: 0.8653\n",
      "Epoch 10/10\n",
      "782/782 - 29s - loss: 0.3539 - accuracy: 0.8791\n",
      "157/157 - 2s - loss: 0.9880 - accuracy: 0.6910\n"
     ]
    },
    {
     "data": {
      "text/plain": [
       "[0.9879726767539978, 0.6909999847412109]"
      ]
     },
     "execution_count": 123,
     "metadata": {},
     "output_type": "execute_result"
    }
   ],
   "source": [
    "def my_model(): #defining model as python function for diversity\n",
    "    inputs = keras.Input(shape=(32, 32, 3)) \n",
    "    x=layers.Conv2D(32, 3)(inputs)#convolution\n",
    "    x=layers.BatchNormalization()(x)#Using BatchNorm\n",
    "    x=keras.activations.relu(x)\n",
    "    x=layers.MaxPooling2D()(x)\n",
    "    x=layers.Conv2D(64, 3)(x) #layer 2\n",
    "    x=layers.BatchNormalization()(x)\n",
    "    x=keras.activations.relu(x)\n",
    "    x=layers.MaxPooling2D()(x)\n",
    "    x=layers.Conv2D(128, 3)(x) #layer 3\n",
    "    x=layers.BatchNormalization()(x)\n",
    "    x=keras.activations.relu(x)\n",
    "    x=layers.Flatten()(x)\n",
    "    x=layers.Dense(64, activation=\"relu\")(x) #dense layer\n",
    "    outputs=layers.Dense(10)(x)\n",
    "    model=keras.Model(inputs=inputs, outputs=outputs)\n",
    "    return model\n",
    "\n",
    "model=my_model()\n",
    "\n",
    "print(model.summary())\n",
    "\n",
    "model.compile(\n",
    "    loss=keras.losses.SparseCategoricalCrossentropy(from_logits=True),\n",
    "    optimizer=keras.optimizers.Adam(lr=3e-4), #Adam\n",
    "    metrics=[\"accuracy\"],\n",
    ")\n",
    "\n",
    "model.fit(x_train,y_train,batch_size=64,epochs=10,verbose=2) #train\n",
    "model.evaluate(x_test,y_test,batch_size=64,verbose=2) #test"
   ]
  },
  {
   "cell_type": "markdown",
   "metadata": {},
   "source": [
    "Using the batch normalizations, the training is much faster and reaching higher levels of accuracy. However, the test data accuracy has not increase as much, which segways into the next section about the case that your data is overfit."
   ]
  },
  {
   "cell_type": "markdown",
   "metadata": {},
   "source": [
    "### Regularization with L2 and Dropout for Overfitting"
   ]
  },
  {
   "cell_type": "code",
   "execution_count": 109,
   "metadata": {},
   "outputs": [],
   "source": [
    "from tensorflow.keras import regularizers"
   ]
  },
  {
   "cell_type": "markdown",
   "metadata": {},
   "source": [
    "In this section I will be taking the code from building a convolutional NN with a functional model (above) and adding L2 regularizers and dropout. The changes in the code are signified and explained in comments."
   ]
  },
  {
   "cell_type": "code",
   "execution_count": 124,
   "metadata": {
    "scrolled": true
   },
   "outputs": [
    {
     "name": "stdout",
     "output_type": "stream",
     "text": [
      "Model: \"model_27\"\n",
      "_________________________________________________________________\n",
      "Layer (type)                 Output Shape              Param #   \n",
      "=================================================================\n",
      "input_59 (InputLayer)        [(None, 32, 32, 3)]       0         \n",
      "_________________________________________________________________\n",
      "conv2d_44 (Conv2D)           (None, 32, 32, 32)        896       \n",
      "_________________________________________________________________\n",
      "batch_normalization_30 (Batc (None, 32, 32, 32)        128       \n",
      "_________________________________________________________________\n",
      "tf.nn.relu_30 (TFOpLambda)   (None, 32, 32, 32)        0         \n",
      "_________________________________________________________________\n",
      "max_pooling2d_23 (MaxPooling (None, 16, 16, 32)        0         \n",
      "_________________________________________________________________\n",
      "conv2d_45 (Conv2D)           (None, 16, 16, 64)        18496     \n",
      "_________________________________________________________________\n",
      "batch_normalization_31 (Batc (None, 16, 16, 64)        256       \n",
      "_________________________________________________________________\n",
      "tf.nn.relu_31 (TFOpLambda)   (None, 16, 16, 64)        0         \n",
      "_________________________________________________________________\n",
      "max_pooling2d_24 (MaxPooling (None, 8, 8, 64)          0         \n",
      "_________________________________________________________________\n",
      "conv2d_46 (Conv2D)           (None, 8, 8, 128)         73856     \n",
      "_________________________________________________________________\n",
      "batch_normalization_32 (Batc (None, 8, 8, 128)         512       \n",
      "_________________________________________________________________\n",
      "tf.nn.relu_32 (TFOpLambda)   (None, 8, 8, 128)         0         \n",
      "_________________________________________________________________\n",
      "flatten_13 (Flatten)         (None, 8192)              0         \n",
      "_________________________________________________________________\n",
      "dense_142 (Dense)            (None, 64)                524352    \n",
      "_________________________________________________________________\n",
      "dropout_2 (Dropout)          (None, 64)                0         \n",
      "_________________________________________________________________\n",
      "dense_143 (Dense)            (None, 10)                650       \n",
      "=================================================================\n",
      "Total params: 619,146\n",
      "Trainable params: 618,698\n",
      "Non-trainable params: 448\n",
      "_________________________________________________________________\n",
      "None\n",
      "Epoch 1/150\n",
      "782/782 - 41s - loss: 3.0407 - accuracy: 0.3523\n",
      "Epoch 2/150\n",
      "782/782 - 38s - loss: 1.9265 - accuracy: 0.4658\n",
      "Epoch 3/150\n",
      "782/782 - 39s - loss: 1.6523 - accuracy: 0.5061\n",
      "Epoch 4/150\n",
      "782/782 - 41s - loss: 1.5284 - accuracy: 0.5317\n",
      "Epoch 5/150\n",
      "782/782 - 40s - loss: 1.4615 - accuracy: 0.5516\n",
      "Epoch 6/150\n",
      "782/782 - 40s - loss: 1.4161 - accuracy: 0.5681\n",
      "Epoch 7/150\n",
      "782/782 - 40s - loss: 1.3858 - accuracy: 0.5766\n",
      "Epoch 8/150\n",
      "782/782 - 41s - loss: 1.3567 - accuracy: 0.5896\n",
      "Epoch 9/150\n",
      "782/782 - 41s - loss: 1.3322 - accuracy: 0.5965\n",
      "Epoch 10/150\n",
      "782/782 - 41s - loss: 1.3239 - accuracy: 0.5990\n",
      "Epoch 11/150\n",
      "782/782 - 40s - loss: 1.3041 - accuracy: 0.6086\n",
      "Epoch 12/150\n",
      "782/782 - 42s - loss: 1.2887 - accuracy: 0.6118\n",
      "Epoch 13/150\n",
      "782/782 - 40s - loss: 1.2848 - accuracy: 0.6177\n",
      "Epoch 14/150\n",
      "782/782 - 42s - loss: 1.2679 - accuracy: 0.6232\n",
      "Epoch 15/150\n",
      "782/782 - 42s - loss: 1.2503 - accuracy: 0.6290\n",
      "Epoch 16/150\n",
      "782/782 - 42s - loss: 1.2516 - accuracy: 0.6296\n",
      "Epoch 17/150\n",
      "782/782 - 42s - loss: 1.2317 - accuracy: 0.6360\n",
      "Epoch 18/150\n",
      "782/782 - 41s - loss: 1.2212 - accuracy: 0.6394\n",
      "Epoch 19/150\n",
      "782/782 - 41s - loss: 1.2247 - accuracy: 0.6409\n",
      "Epoch 20/150\n",
      "782/782 - 40s - loss: 1.2087 - accuracy: 0.6480\n",
      "Epoch 21/150\n",
      "782/782 - 40s - loss: 1.2007 - accuracy: 0.6499\n",
      "Epoch 22/150\n",
      "782/782 - 40s - loss: 1.1978 - accuracy: 0.6546\n",
      "Epoch 23/150\n",
      "782/782 - 39s - loss: 1.1856 - accuracy: 0.6593\n",
      "Epoch 24/150\n",
      "782/782 - 40s - loss: 1.1736 - accuracy: 0.6652\n",
      "Epoch 25/150\n",
      "782/782 - 40s - loss: 1.1660 - accuracy: 0.6659\n",
      "Epoch 26/150\n",
      "782/782 - 40s - loss: 1.1638 - accuracy: 0.6676\n",
      "Epoch 27/150\n",
      "782/782 - 40s - loss: 1.1574 - accuracy: 0.6702\n",
      "Epoch 28/150\n",
      "782/782 - 40s - loss: 1.1499 - accuracy: 0.6740\n",
      "Epoch 29/150\n",
      "782/782 - 41s - loss: 1.1463 - accuracy: 0.6764\n",
      "Epoch 30/150\n",
      "782/782 - 43s - loss: 1.1358 - accuracy: 0.6766\n",
      "Epoch 31/150\n",
      "782/782 - 43s - loss: 1.1326 - accuracy: 0.6812\n",
      "Epoch 32/150\n",
      "782/782 - 40s - loss: 1.1248 - accuracy: 0.6843\n",
      "Epoch 33/150\n",
      "782/782 - 40s - loss: 1.1169 - accuracy: 0.6864\n",
      "Epoch 34/150\n",
      "782/782 - 39s - loss: 1.1157 - accuracy: 0.6898\n",
      "Epoch 35/150\n",
      "782/782 - 39s - loss: 1.1110 - accuracy: 0.6920\n",
      "Epoch 36/150\n",
      "782/782 - 40s - loss: 1.1000 - accuracy: 0.6947\n",
      "Epoch 37/150\n",
      "782/782 - 40s - loss: 1.1026 - accuracy: 0.6939\n",
      "Epoch 38/150\n",
      "782/782 - 39s - loss: 1.0969 - accuracy: 0.6953\n",
      "Epoch 39/150\n",
      "782/782 - 40s - loss: 1.0940 - accuracy: 0.6976\n",
      "Epoch 40/150\n",
      "782/782 - 39s - loss: 1.0890 - accuracy: 0.6977\n",
      "Epoch 41/150\n",
      "782/782 - 39s - loss: 1.0871 - accuracy: 0.6997\n",
      "Epoch 42/150\n",
      "782/782 - 40s - loss: 1.0810 - accuracy: 0.7012\n",
      "Epoch 43/150\n",
      "782/782 - 39s - loss: 1.0827 - accuracy: 0.7007\n",
      "Epoch 44/150\n",
      "782/782 - 41s - loss: 1.0673 - accuracy: 0.7066\n",
      "Epoch 45/150\n",
      "782/782 - 41s - loss: 1.0645 - accuracy: 0.7078\n",
      "Epoch 46/150\n",
      "782/782 - 41s - loss: 1.0654 - accuracy: 0.7091\n",
      "Epoch 47/150\n",
      "782/782 - 40s - loss: 1.0563 - accuracy: 0.7103\n",
      "Epoch 48/150\n",
      "782/782 - 40s - loss: 1.0617 - accuracy: 0.7102\n",
      "Epoch 49/150\n",
      "782/782 - 40s - loss: 1.0521 - accuracy: 0.7141\n",
      "Epoch 50/150\n",
      "782/782 - 39s - loss: 1.0478 - accuracy: 0.7159\n",
      "Epoch 51/150\n",
      "782/782 - 39s - loss: 1.0500 - accuracy: 0.7132\n",
      "Epoch 52/150\n",
      "782/782 - 42s - loss: 1.0416 - accuracy: 0.7170\n",
      "Epoch 53/150\n",
      "782/782 - 41s - loss: 1.0481 - accuracy: 0.7165\n",
      "Epoch 54/150\n",
      "782/782 - 41s - loss: 1.0331 - accuracy: 0.7230\n",
      "Epoch 55/150\n",
      "782/782 - 39s - loss: 1.0350 - accuracy: 0.7205\n",
      "Epoch 56/150\n",
      "782/782 - 39s - loss: 1.0329 - accuracy: 0.7230\n",
      "Epoch 57/150\n",
      "782/782 - 39s - loss: 1.0358 - accuracy: 0.7232\n",
      "Epoch 58/150\n",
      "782/782 - 40s - loss: 1.0324 - accuracy: 0.7231\n",
      "Epoch 59/150\n",
      "782/782 - 40s - loss: 1.0293 - accuracy: 0.7270\n",
      "Epoch 60/150\n",
      "782/782 - 40s - loss: 1.0248 - accuracy: 0.7284\n",
      "Epoch 61/150\n",
      "782/782 - 40s - loss: 1.0221 - accuracy: 0.7281\n",
      "Epoch 62/150\n",
      "782/782 - 39s - loss: 1.0240 - accuracy: 0.7288\n",
      "Epoch 63/150\n",
      "782/782 - 39s - loss: 1.0190 - accuracy: 0.7290\n",
      "Epoch 64/150\n",
      "782/782 - 39s - loss: 1.0184 - accuracy: 0.7309\n",
      "Epoch 65/150\n",
      "782/782 - 39s - loss: 1.0058 - accuracy: 0.7335\n",
      "Epoch 66/150\n",
      "782/782 - 39s - loss: 1.0113 - accuracy: 0.7329\n",
      "Epoch 67/150\n",
      "782/782 - 40s - loss: 1.0092 - accuracy: 0.7333\n",
      "Epoch 68/150\n",
      "782/782 - 39s - loss: 1.0105 - accuracy: 0.7341\n",
      "Epoch 69/150\n",
      "782/782 - 39s - loss: 1.0041 - accuracy: 0.7355\n",
      "Epoch 70/150\n",
      "782/782 - 39s - loss: 1.0111 - accuracy: 0.7333\n",
      "Epoch 71/150\n",
      "782/782 - 38s - loss: 1.0017 - accuracy: 0.7368\n",
      "Epoch 72/150\n",
      "782/782 - 39s - loss: 1.0007 - accuracy: 0.7383\n",
      "Epoch 73/150\n",
      "782/782 - 39s - loss: 0.9978 - accuracy: 0.7383\n",
      "Epoch 74/150\n",
      "782/782 - 39s - loss: 0.9989 - accuracy: 0.7396\n",
      "Epoch 75/150\n",
      "782/782 - 39s - loss: 0.9948 - accuracy: 0.7416\n",
      "Epoch 76/150\n",
      "782/782 - 39s - loss: 0.9907 - accuracy: 0.7445\n",
      "Epoch 77/150\n",
      "782/782 - 38s - loss: 0.9943 - accuracy: 0.7439\n",
      "Epoch 78/150\n",
      "782/782 - 38s - loss: 0.9932 - accuracy: 0.7425\n",
      "Epoch 79/150\n",
      "782/782 - 39s - loss: 0.9899 - accuracy: 0.7464\n",
      "Epoch 80/150\n",
      "782/782 - 39s - loss: 0.9814 - accuracy: 0.7491\n",
      "Epoch 81/150\n",
      "782/782 - 39s - loss: 0.9821 - accuracy: 0.7459\n",
      "Epoch 82/150\n",
      "782/782 - 39s - loss: 0.9831 - accuracy: 0.7504\n",
      "Epoch 83/150\n",
      "782/782 - 39s - loss: 0.9862 - accuracy: 0.7456\n",
      "Epoch 84/150\n",
      "782/782 - 39s - loss: 0.9836 - accuracy: 0.7506\n",
      "Epoch 85/150\n",
      "782/782 - 39s - loss: 0.9840 - accuracy: 0.7486\n",
      "Epoch 86/150\n",
      "782/782 - 38s - loss: 0.9785 - accuracy: 0.7525\n",
      "Epoch 87/150\n",
      "782/782 - 39s - loss: 0.9703 - accuracy: 0.7556\n",
      "Epoch 88/150\n",
      "782/782 - 38s - loss: 0.9790 - accuracy: 0.7500\n",
      "Epoch 89/150\n",
      "782/782 - 39s - loss: 0.9784 - accuracy: 0.7522\n",
      "Epoch 90/150\n",
      "782/782 - 38s - loss: 0.9720 - accuracy: 0.7525\n",
      "Epoch 91/150\n",
      "782/782 - 38s - loss: 0.9752 - accuracy: 0.7534\n",
      "Epoch 92/150\n",
      "782/782 - 38s - loss: 0.9727 - accuracy: 0.7551\n",
      "Epoch 93/150\n",
      "782/782 - 38s - loss: 0.9733 - accuracy: 0.7553\n",
      "Epoch 94/150\n",
      "782/782 - 39s - loss: 0.9628 - accuracy: 0.7572\n"
     ]
    },
    {
     "name": "stdout",
     "output_type": "stream",
     "text": [
      "Epoch 95/150\n",
      "782/782 - 39s - loss: 0.9709 - accuracy: 0.7548\n",
      "Epoch 96/150\n",
      "782/782 - 38s - loss: 0.9620 - accuracy: 0.7611\n",
      "Epoch 97/150\n",
      "782/782 - 38s - loss: 0.9619 - accuracy: 0.7596\n",
      "Epoch 98/150\n",
      "782/782 - 38s - loss: 0.9617 - accuracy: 0.7600\n",
      "Epoch 99/150\n",
      "782/782 - 38s - loss: 0.9537 - accuracy: 0.7614\n",
      "Epoch 100/150\n",
      "782/782 - 39s - loss: 0.9627 - accuracy: 0.7603\n",
      "Epoch 101/150\n",
      "782/782 - 39s - loss: 0.9565 - accuracy: 0.7628\n",
      "Epoch 102/150\n",
      "782/782 - 39s - loss: 0.9590 - accuracy: 0.7623\n",
      "Epoch 103/150\n",
      "782/782 - 38s - loss: 0.9629 - accuracy: 0.7598\n",
      "Epoch 104/150\n",
      "782/782 - 39s - loss: 0.9541 - accuracy: 0.7651\n",
      "Epoch 105/150\n",
      "782/782 - 38s - loss: 0.9551 - accuracy: 0.7662\n",
      "Epoch 106/150\n",
      "782/782 - 38s - loss: 0.9564 - accuracy: 0.7632\n",
      "Epoch 107/150\n",
      "782/782 - 38s - loss: 0.9510 - accuracy: 0.7685\n",
      "Epoch 108/150\n",
      "782/782 - 38s - loss: 0.9604 - accuracy: 0.7635\n",
      "Epoch 109/150\n",
      "782/782 - 39s - loss: 0.9519 - accuracy: 0.7686\n",
      "Epoch 110/150\n",
      "782/782 - 38s - loss: 0.9489 - accuracy: 0.7690\n",
      "Epoch 111/150\n",
      "782/782 - 38s - loss: 0.9519 - accuracy: 0.7690\n",
      "Epoch 112/150\n",
      "782/782 - 38s - loss: 0.9461 - accuracy: 0.7712\n",
      "Epoch 113/150\n",
      "782/782 - 38s - loss: 0.9438 - accuracy: 0.7729\n",
      "Epoch 114/150\n",
      "782/782 - 38s - loss: 0.9541 - accuracy: 0.7684\n",
      "Epoch 115/150\n",
      "782/782 - 38s - loss: 0.9571 - accuracy: 0.7661\n",
      "Epoch 116/150\n",
      "782/782 - 38s - loss: 0.9373 - accuracy: 0.7731\n",
      "Epoch 117/150\n",
      "782/782 - 39s - loss: 0.9484 - accuracy: 0.7721\n",
      "Epoch 118/150\n",
      "782/782 - 39s - loss: 0.9390 - accuracy: 0.7734\n",
      "Epoch 119/150\n",
      "782/782 - 38s - loss: 0.9417 - accuracy: 0.7724\n",
      "Epoch 120/150\n",
      "782/782 - 38s - loss: 0.9505 - accuracy: 0.7684\n",
      "Epoch 121/150\n",
      "782/782 - 38s - loss: 0.9497 - accuracy: 0.7724\n",
      "Epoch 122/150\n",
      "782/782 - 38s - loss: 0.9390 - accuracy: 0.7742\n",
      "Epoch 123/150\n",
      "782/782 - 38s - loss: 0.9457 - accuracy: 0.7728\n",
      "Epoch 124/150\n",
      "782/782 - 38s - loss: 0.9495 - accuracy: 0.7689\n",
      "Epoch 125/150\n",
      "782/782 - 38s - loss: 0.9449 - accuracy: 0.7753\n",
      "Epoch 126/150\n",
      "782/782 - 38s - loss: 0.9442 - accuracy: 0.7747\n",
      "Epoch 127/150\n",
      "782/782 - 37s - loss: 0.9368 - accuracy: 0.7750\n",
      "Epoch 128/150\n",
      "782/782 - 38s - loss: 0.9346 - accuracy: 0.7743\n",
      "Epoch 129/150\n",
      "782/782 - 37s - loss: 0.9351 - accuracy: 0.7769\n",
      "Epoch 130/150\n",
      "782/782 - 38s - loss: 0.9380 - accuracy: 0.7744\n",
      "Epoch 131/150\n",
      "782/782 - 38s - loss: 0.9298 - accuracy: 0.7764\n",
      "Epoch 132/150\n",
      "782/782 - 38s - loss: 0.9352 - accuracy: 0.7791\n",
      "Epoch 133/150\n",
      "782/782 - 38s - loss: 0.9376 - accuracy: 0.7754\n",
      "Epoch 134/150\n",
      "782/782 - 38s - loss: 0.9356 - accuracy: 0.7755\n",
      "Epoch 135/150\n",
      "782/782 - 38s - loss: 0.9342 - accuracy: 0.7776\n",
      "Epoch 136/150\n",
      "782/782 - 38s - loss: 0.9358 - accuracy: 0.7772\n",
      "Epoch 137/150\n",
      "782/782 - 38s - loss: 0.9298 - accuracy: 0.7772\n",
      "Epoch 138/150\n",
      "782/782 - 38s - loss: 0.9401 - accuracy: 0.7780\n",
      "Epoch 139/150\n",
      "782/782 - 38s - loss: 0.9284 - accuracy: 0.7797\n",
      "Epoch 140/150\n",
      "782/782 - 37s - loss: 0.9398 - accuracy: 0.7763\n",
      "Epoch 141/150\n",
      "782/782 - 37s - loss: 0.9276 - accuracy: 0.7797\n",
      "Epoch 142/150\n",
      "782/782 - 38s - loss: 0.9245 - accuracy: 0.7804\n",
      "Epoch 143/150\n",
      "782/782 - 37s - loss: 0.9224 - accuracy: 0.7803\n",
      "Epoch 144/150\n",
      "782/782 - 37s - loss: 0.9318 - accuracy: 0.7789\n",
      "Epoch 145/150\n",
      "782/782 - 39s - loss: 0.9268 - accuracy: 0.7826\n",
      "Epoch 146/150\n",
      "782/782 - 38s - loss: 0.9324 - accuracy: 0.7796\n",
      "Epoch 147/150\n",
      "782/782 - 38s - loss: 0.9381 - accuracy: 0.7785\n",
      "Epoch 148/150\n",
      "782/782 - 38s - loss: 0.9314 - accuracy: 0.7793\n",
      "Epoch 149/150\n",
      "782/782 - 37s - loss: 0.9287 - accuracy: 0.7814\n",
      "Epoch 150/150\n",
      "782/782 - 37s - loss: 0.9281 - accuracy: 0.7806\n",
      "157/157 - 3s - loss: 1.2254 - accuracy: 0.7028\n"
     ]
    },
    {
     "data": {
      "text/plain": [
       "[1.2253975868225098, 0.7027999758720398]"
      ]
     },
     "execution_count": 124,
     "metadata": {},
     "output_type": "execute_result"
    }
   ],
   "source": [
    "def my_model(): #defining model as python function for diversity\n",
    "    inputs = keras.Input(shape=(32, 32, 3)) \n",
    "    x=layers.Conv2D(\n",
    "        32,3,padding='same',kernel_regularizer=regularizers.l2(0.01), #adding padding and L2 regularizer\n",
    "    )(inputs) \n",
    "    x=layers.BatchNormalization()(x)#Using BatchNorm\n",
    "    x=keras.activations.relu(x)\n",
    "    x=layers.MaxPooling2D()(x)\n",
    "    x=layers.Conv2D(\n",
    "        64,3,padding='same',kernel_regularizer=regularizers.l2(0.01), #adding L2 regularizer\n",
    "    )(x) \n",
    "    x=layers.BatchNormalization()(x)\n",
    "    x=keras.activations.relu(x)\n",
    "    x=layers.MaxPooling2D()(x)\n",
    "    x=layers.Conv2D(\n",
    "        128,3,padding='same',kernel_regularizer=regularizers.l2(0.01), #adding padding and L2 regularizer\n",
    "    )(x) \n",
    "    x=layers.BatchNormalization()(x)\n",
    "    x=keras.activations.relu(x)\n",
    "    x=layers.Flatten()(x)\n",
    "    x=layers.Dense(\n",
    "        64,activation='relu',kernel_regularizer=regularizers.l2(0.01), #adding L2 regularizer\n",
    "    )(x)\n",
    "    x=layers.Dropout(0.5)(x) #DROPOUT 1/2 of the connections\n",
    "    outputs=layers.Dense(10)(x)\n",
    "    model=keras.Model(inputs=inputs, outputs=outputs)\n",
    "    return model\n",
    "\n",
    "model=my_model()\n",
    "\n",
    "print(model.summary())\n",
    "\n",
    "model.compile(\n",
    "    loss=keras.losses.SparseCategoricalCrossentropy(from_logits=True),\n",
    "    optimizer=keras.optimizers.Adam(lr=3e-4), \n",
    "    metrics=[\"accuracy\"],\n",
    ")\n",
    "\n",
    "model.fit(x_train,y_train,batch_size=64,epochs=150,verbose=2) #increase training duration to 150 to compensate for dropout\n",
    "model.evaluate(x_test,y_test,batch_size=64,verbose=2) "
   ]
  },
  {
   "cell_type": "markdown",
   "metadata": {},
   "source": [
    "Here we have improved the accuracy of running our model on the test dataset with two ways of compensating for overfitting (L2 Regularization and Dropout). Our model would improve more with more test data (more epochs)."
   ]
  },
  {
   "cell_type": "markdown",
   "metadata": {},
   "source": [
    "### Model Subclassing"
   ]
  },
  {
   "cell_type": "markdown",
   "metadata": {},
   "source": [
    "Thus far I have been investigating sequential and functional APIs for building these models. Subclassing requires one input for one output, and functional API adds more flexibility by being able to handel examples like this https://www.kaggle.com/dataset/eb9594e5b728b2eb74ff8d5e57a9b74634330bfa79d9195d6ebdc7745b9802c3?select=test.csv where multiple mnist numbers are in one tensor and the NN needs to classify multiple numbers per input. Subclassing, is an additional model constructor that is the most flexible out of the three. Instead of writing very similarly structured convolutional neural networks, we can make a class that is then easily applied when we want to perform the NN."
   ]
  },
  {
   "cell_type": "code",
   "execution_count": 129,
   "metadata": {},
   "outputs": [
    {
     "name": "stdout",
     "output_type": "stream",
     "text": [
      "Epoch 1/3\n",
      "938/938 - 158s - loss: 0.5961 - accuracy: 0.9460\n",
      "Epoch 2/3\n",
      "938/938 - 172s - loss: 0.0887 - accuracy: 0.9818\n",
      "Epoch 3/3\n",
      "938/938 - 184s - loss: 0.0349 - accuracy: 0.9892\n",
      "938/938 - 54s - loss: 0.0199 - accuracy: 0.9936\n"
     ]
    },
    {
     "data": {
      "text/plain": [
       "[0.019878560677170753, 0.9935500025749207]"
      ]
     },
     "execution_count": 129,
     "metadata": {},
     "output_type": "execute_result"
    }
   ],
   "source": [
    "#Keep in mind package imports have already been called and ran in previous cells\n",
    "\n",
    "(x_train,y_train),(x_test,y_test)=mnist.load_data()\n",
    "\n",
    "x_train=x_train.reshape(-1,28,28,1).astype(\"float32\") / 255.0 #add fourth argument to reshap for the number of channels\n",
    "x_test=x_test.reshape(-1,28,28,1).astype(\"float32\")/255.0\n",
    "\n",
    "class CNNBlock(layers.Layer): #define class of method that we reuse very often\n",
    "    def __init__(self, out_channels, kernel_size=3):\n",
    "        super(CNNBlock, self).__init__()\n",
    "        self.conv=layers.Conv2D(out_channels, kernel_size, padding='same') #define convolution step (used in previous models above)\n",
    "        self.bn=layers.BatchNormalization() #Batch Norm as I did in previous models above\n",
    "        \n",
    "    def call(self, input_tensor, training=False):\n",
    "        x=self.conv(input_tensor) #convolution\n",
    "        x=self.bn(x,training=training) #batch\n",
    "        x=tf.nn.relu(x) #reLu\n",
    "        #notice that this is the same order and structure as I've been doing, just generalized into the class\n",
    "        return x\n",
    "    \n",
    "#now putting it to use    \n",
    "model= keras.Sequential(\n",
    "    [\n",
    "        CNNBlock(32), #call class\n",
    "        CNNBlock(64), #Can easily repeat for new NN with similar model structure\n",
    "        CNNBlock(128),\n",
    "        layers.Flatten(),\n",
    "        layers.Dense(10),\n",
    "        \n",
    "    ]\n",
    ")\n",
    "\n",
    "model.compile(\n",
    "    optimizer=keras.optimizers.Adam(),\n",
    "    loss=keras.losses.SparseCategoricalCrossentropy(from_logits=True),\n",
    "    metrics=[\"accuracy\"],\n",
    ")\n",
    "\n",
    "model.fit(x_train, y_train, batch_size=64, epochs=3, verbose=2)\n",
    "model.evaluate(x_train, y_train, batch_size=64, verbose=2)"
   ]
  },
  {
   "cell_type": "markdown",
   "metadata": {},
   "source": [
    "Next, we will use the above class of the repetative CNN building framework we have been using, and combining it with pooling and identity mapping. This will then simulate as similar method to what is known as ResNet, which was mentioned in class!"
   ]
  },
  {
   "cell_type": "code",
   "execution_count": 156,
   "metadata": {},
   "outputs": [
    {
     "name": "stdout",
     "output_type": "stream",
     "text": [
      "938/938 - 243s - loss: 0.1096 - accuracy: 0.9657\n",
      "157/157 - 14s - loss: 0.0629 - accuracy: 0.9805\n"
     ]
    },
    {
     "data": {
      "text/plain": [
       "[0.06286587566137314, 0.9804999828338623]"
      ]
     },
     "execution_count": 156,
     "metadata": {},
     "output_type": "execute_result"
    }
   ],
   "source": [
    "class ResBlock(layers.Layer): #Similar to ResNet\n",
    "    def __init__(self, channels):\n",
    "        super(ResBlock, self).__init__()\n",
    "        self.channels=channels\n",
    "        self.cnn1=CNNBlock(channels[0], 3) #call previous class and input single channel as layer\n",
    "        self.cnn2=CNNBlock(channels[1], 3)\n",
    "        self.cnn3=CNNBlock(channels[2], 3)\n",
    "        self.pooling=layers.MaxPooling2D()\n",
    "        self.identity_mapping=layers.Conv2D(channels[1], 3, padding=\"same\") #keep same size after map\n",
    "\n",
    "    def call(self, input_tensor, training=False):\n",
    "        x=self.cnn1(input_tensor, training=training)\n",
    "        x=self.cnn2(x, training=training)\n",
    "        x=self.cnn3(x + self.identity_mapping(input_tensor), training=training,) #using identity mapping to make tensor correct size for addition\n",
    "        x=self.pooling(x)\n",
    "        return x\n",
    "\n",
    "\n",
    "class ResNet_Like(keras.Model):\n",
    "    def __init__(self, num_classes=10):\n",
    "        super(ResNet_Like, self).__init__()\n",
    "        self.block1=ResBlock([32, 32, 64])\n",
    "        self.block2=ResBlock([128, 128, 256])\n",
    "        self.block3=ResBlock([128, 256, 512])\n",
    "        self.pool=layers.GlobalAveragePooling2D() #Alternative call to Flatten() but is average pooling (from class)\n",
    "        self.classifier=layers.Dense(num_classes) #self classification stage\n",
    "\n",
    "    def call(self, input_tensor, training=False):\n",
    "        x=self.block1(input_tensor, training=training)\n",
    "        x=self.block2(x, training=training)\n",
    "        x=self.block3(x, training=training)\n",
    "        x=self.pool(x, training=training)\n",
    "        x=self.classifier(x)\n",
    "        return x\n",
    "\n",
    "    def model(self): #avoid multiple shapes\n",
    "        x=keras.Input(shape=(28, 28, 1))\n",
    "        return keras.Model(inputs=[x], outputs=self.call(x))\n",
    "\n",
    "\n",
    "model=ResNet_Like().model()\n",
    "base_input=model.layers[0].input\n",
    "base_output=model.layers[2].output\n",
    "output=layers.Dense(10)(layers.Flatten()(base_output))\n",
    "model=keras.Model(base_input, output)\n",
    "\n",
    "model.compile(\n",
    "    optimizer=keras.optimizers.Adam(),\n",
    "    loss=keras.losses.SparseCategoricalCrossentropy(from_logits=True),\n",
    "    metrics=[\"accuracy\"],\n",
    ")\n",
    "\n",
    "model.fit(x_train, y_train, batch_size=64, epochs=1, verbose=2)\n",
    "#print(model.model().summary())\n",
    "model.evaluate(x_test, y_test, batch_size=64, verbose=2)\n",
    "        "
   ]
  },
  {
   "cell_type": "markdown",
   "metadata": {},
   "source": [
    "Above, we have just demonstrated the efficiency and flexibility of subclassing by embedding so many models. Relative to the previous models I have built, this model is far larger, yet still simple to construct and code."
   ]
  },
  {
   "cell_type": "code",
   "execution_count": null,
   "metadata": {},
   "outputs": [],
   "source": []
  }
 ],
 "metadata": {
  "kernelspec": {
   "display_name": "Python 3",
   "language": "python",
   "name": "python3"
  },
  "language_info": {
   "codemirror_mode": {
    "name": "ipython",
    "version": 3
   },
   "file_extension": ".py",
   "mimetype": "text/x-python",
   "name": "python",
   "nbconvert_exporter": "python",
   "pygments_lexer": "ipython3",
   "version": "3.8.3"
  }
 },
 "nbformat": 4,
 "nbformat_minor": 4
}
